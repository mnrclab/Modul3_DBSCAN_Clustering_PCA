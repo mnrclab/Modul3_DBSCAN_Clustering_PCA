{
 "cells": [
  {
   "cell_type": "markdown",
   "metadata": {},
   "source": [
    "# ``Unsupervised Learning Analysis Process``\n",
    "\n",
    "The overall process that we will follow when developing an unsupervised learning model can be summarized in the following chart:\n",
    "\n",
    "<img src= 'b_img.png'>\n",
    "\n",
    "**Unsupervised learning** main applications are:\n",
    "\n",
    "-    Segmenting datasets by some shared atributes.\n",
    "-    Detecting anomalies that do not fit to any group.\n",
    "-    Simplify datasets by aggregating variables with similar atributes.\n",
    "\n",
    "In summary, the main goal is to study the intrinsic (and commonly hidden) structure of the data.\n",
    "\n",
    "This techniques can be condensed in two main types of problems that unsupervised learning tries to solve. This problems are:\n",
    "\n",
    "### 1) Clustering\n",
    "### 2) Dimensionality Reduction\n"
   ]
  },
  {
   "cell_type": "markdown",
   "metadata": {},
   "source": [
    "<hr>\n",
    "\n",
    "# ``Clustering``\n",
    "\n",
    "However, when dealing with real-world problems, most of the time, data will not come with predefined labels, so we will want to develop machine learning models that can classify correctly this data, by finding by themselves some commonality in the features, that will be used to predict the classes on new data.\n",
    "\n",
    "Cluster analysis, or clustering, is an unsupervised machine learning task.\n",
    "\n",
    "In basic terms, the objective of clustering is to find different groups within the elements in the data. To do so, clustering algorithms find the structure in the data so that elements of the same cluster (or group) are more similar to each other than to those from different clusters.\n",
    "\n",
    "It involves automatically discovering natural grouping in data. Unlike supervised learning (like predictive modeling), clustering algorithms only interpret the input data and find natural groups or clusters in feature space.\n",
    "\n",
    "Many algorithms use similarity or distance measures between examples in the feature space in an effort to discover dense regions of observations. As such, it is often good practice to scale data prior to using clustering algorithms.\n",
    "\n",
    "A list of 10 of the more popular algorithms is as follows:\n",
    "\n",
    "-    Affinity Propagation\n",
    "-    Agglomerative Clustering\n",
    "-    BIRCH\n",
    "-    DBSCAN\n",
    "-    K-Means\n",
    "-    Mini-Batch K-Means\n",
    "-    Mean Shift\n",
    "-    OPTICS\n",
    "-    Spectral Clustering\n",
    "-    Mixture of Gaussians\n",
    "\n",
    "E.g. K-Means (distance between points), Affinity propagation (graph distance), Mean-shift (distance between points), DBSCAN (distance between nearest points), Gaussian mixtures (Mahalanobis distance to centers), Spectral clustering (graph distance) etc.\n",
    "\n",
    "<hr>"
   ]
  },
  {
   "cell_type": "markdown",
   "metadata": {},
   "source": [
    "# **DBSCAN** (Density-Based Spatial Clustering of Applications with Noise )\n",
    "\n",
    "Fundamentally, all clustering methods use the same approach i.e. first we calculate similarities and then we use it to cluster the data points into groups or batches. Here we will focus on **Density-based spatial clustering of applications with noise** (DBSCAN) clustering method.\n",
    "\n",
    "Clusters are dense regions in the data space, separated by regions of the lower density of points. The **DBSCAN algorithm** is based on this intuitive notion of “clusters” and “noise”. The key idea is that for each point of a cluster, the neighborhood of a given radius has to contain at least a minimum number of points."
   ]
  },
  {
   "cell_type": "markdown",
   "metadata": {},
   "source": [
    "DBSCAN is a density-based clustered algorithm similar to mean-shift, but with a couple of notable advantages. \n",
    "\n",
    "DBSCAN Clustering involves finding high-density areas in the domain and expanding those areas of the feature space around them as clusters.\n",
    "\n",
    "<img src = 'a_img.gif'>\n"
   ]
  },
  {
   "cell_type": "markdown",
   "metadata": {},
   "source": [
    "### **How DBSCAN works?**\n",
    "\n",
    "1.    DBSCAN begins with an arbitrary starting data point that has not been visited. The neighborhood of this point is extracted using a distance epsilon ε (All points which are within the ε distance are neighborhood points).\n",
    "2.    If there are a sufficient number of points (according to minPoints) within this neighborhood then the clustering process starts and the current data point becomes the first point in the new cluster. Otherwise, the point will be labeled as noise (later this noisy point might become the part of the cluster). In both cases that point is marked as “visited”.\n",
    "3.    For this first point in the new cluster, the points within its ε distance neighborhood also become part of the same cluster. This procedure of making all points in the ε neighborhood belong to the same cluster is then repeated for all of the new points that have been just added to the cluster group.\n",
    "4.    This process of steps 2 and 3 is repeated until all points in the cluster are determined i.e all points within the ε neighborhood of the cluster have been visited and labeled.\n",
    "5.    Once we’re done with the current cluster, a new unvisited point is retrieved and processed, leading to the discovery of a further cluster or noise. This process repeats until all points are marked as visited. Since at the end of this all points have been visited, each point will have been marked as either belonging to a cluster or being noise."
   ]
  },
  {
   "cell_type": "markdown",
   "metadata": {},
   "source": [
    "### **DBSCAN Assigning Criteria**\n",
    "\n",
    "It is based on a number of points with a specified radius ε and there is a special label assigned to each datapoint. The process of assigning this label is the following:\n",
    "\n",
    "-    It is a specified number (MinPts) of neighbour points. A core point will be assigned if there is this MinPts number of points that fall in the ε radius.\n",
    "-    A border point will fall in the ε radius of a core point, but will have less neighbors than the MinPts number.\n",
    "-    Every other point will be noise points.\n",
    "\n",
    "### **DBSCAN Algorithm**\n",
    "\n",
    "The algorithm follows the logic:\n",
    "\n",
    "1.    Identify a core point and make a group for each one, or for each connected gorup of core points (if they staisfy the criteria to be core point).\n",
    "2.    Identify and assign border points to their respective core points.\n",
    "\n",
    "The following figure summarize very well this process and the commented notation.\n",
    "\n",
    "<img src = 'c_img.png'>"
   ]
  },
  {
   "cell_type": "markdown",
   "metadata": {},
   "source": [
    "## **DBSCAN algorithm requires two parameters**\n",
    "\n",
    "1.    **eps** : It defines the neighborhood around a data point i.e. if the distance between two points is lower or equal to ‘eps’ then they are considered as neighbors. If the eps value is chosen too small then large part of the data will be considered as outliers. If it is chosen very large then the clusters will merge and majority of the data points will be in the same clusters. One way to find the eps value is based on the** k-distance graph**.\n",
    "2.    **MinPts**: Minimum number of neighbors (data points) within eps radius. Larger the dataset, the larger value of MinPts must be chosen. As a general rule, the minimum MinPts can be derived from the number of dimensions D in the dataset as, MinPts >= D+1. The minimum value of MinPts must be chosen at least 3.\n",
    "\n",
    "``In this algorithm, we have 3 types of data points.``\n",
    "\n",
    "- **Core Point**: A point is a core point if it has more than MinPts points within eps.\n",
    "- **Border Point**: A point which has fewer than MinPts within eps but it is in the neighborhood of a core point.\n",
    "- **Noise or outlier**: A point which is not a core point or border point.\n",
    "\n",
    "<img src = 'd_img.png'>"
   ]
  },
  {
   "cell_type": "markdown",
   "metadata": {},
   "source": [
    "<hr>\n",
    "\n",
    "### **DBSCAN algorithm can be abstracted in the following steps**\n",
    "\n",
    "1.    Find all the neighbor points within eps and identify the core points or visited with more than MinPts neighbors.\n",
    "2.    For each core point if it is not already assigned to a cluster, create a new cluster.\n",
    "3.    Find recursively all its density connected points and assign them to the same cluster as the core point.\n",
    "4.    A point a and b are said to be density connected if there exist a point c which has a sufficient number of points in its neighbors and both the points a and b are within the eps distance. This is a chaining process. So, if b is neighbor of c, c is neighbor of d, d is neighbor of e, which in turn is neighbor of a implies that b is neighbor of a.\n",
    "5.    Iterate through the remaining unvisited points in the dataset. Those points that do not belong to any cluster are noise.\n",
    "\n",
    "### **Below is the DBSCAN clustering algorithm in pseudocode:**\n",
    "\n",
    "```\n",
    "DBSCAN(dataset, eps, MinPts){\n",
    "# cluster index\n",
    "C = 1\n",
    "for each unvisited point p in dataset {\n",
    "         mark p as visited\n",
    "         # find neighbors\n",
    "         Neighbors N = find the neighboring points of p\n",
    "\n",
    "         if |N|>=MinPts:\n",
    "             N = N U N'\n",
    "             if p' is not a member of any cluster:\n",
    "                 add p' to cluster C \n",
    "}\n",
    "```"
   ]
  },
  {
   "cell_type": "markdown",
   "metadata": {},
   "source": [
    "<hr>\n",
    "\n",
    "### **Advantages**\n",
    "-    We do not need to specify the number of clusters.\n",
    "-    There is high flexibility in the shapes and sizes that the clusters may adopt.\n",
    "-    It is very useful to identify and deal with noise data and outliers.\n",
    "\n",
    "DBSCAN poses some great advantages over other clustering algorithms. Firstly, it does not require a pe-set number of clusters at all. It also identifies outliers as noises, unlike mean-shift which simply throws them into a cluster even if the data point is very different. Additionally, it can find arbitrarily sized and arbitrarily shaped clusters quite well.\n",
    "\n",
    "Partitioning methods (K-means, PAM clustering) and hierarchical clustering work for finding spherical-shaped clusters or convex clusters. In other words, they are suitable only for compact and well-separated clusters. Moreover, they are also severely affected by the presence of noise and outliers in the data.\n",
    "\n",
    "Real life data may contain irregularities, like –\n",
    "- i) Clusters can be of arbitrary shape such as those shown in the figure below.\n",
    "- ii) Data may contain noise.\n",
    "\n",
    "### **Disadvantages**\n",
    "-    It faces difficulties when dealing with boirder points that are reachable by two clusters.\n",
    "-    It doesn’t find well clusters of varying densities.\n",
    "\n",
    "The main drawback of DBSCAN is that it doesn’t perform as well as others when the clusters are of varying density. This is because the setting of the distance threshold ε and minPoints for identifying the neighborhood points will vary from cluster to cluster when the density varies. This drawback also occurs with very high-dimensional data since again the distance threshold ε becomes challenging to estimate."
   ]
  },
  {
   "cell_type": "markdown",
   "metadata": {},
   "source": [
    "<hr>\n",
    "\n",
    "### **Comparing with K-Means**\n",
    "\n",
    "**Disadvantage Of K-MEANS:**\n",
    "\n",
    "1.    K-Means forms spherical clusters only. This algorithm fails when data is not spherical ( i.e. same variance in all directions).\n",
    "<img src = 'e_img.png'>\n",
    "\n",
    "2.    K-Means algorithm is sensitive towards outlier. Outliers can skew the clusters in K-Means in very large extent.\n",
    "<img src = 'e_img.png'>\n",
    "\n",
    "3.    K-Means algorithm requires one to specify the number of clusters a priory etc.\n",
    "\n",
    "Basically, DBSCAN algorithm overcomes all the above-mentioned drawbacks of K-Means algorithm. DBSCAN algorithm identifies the dense region by grouping together data points that are closed to each other based on distance measurement."
   ]
  },
  {
   "cell_type": "markdown",
   "metadata": {},
   "source": [
    "<hr>\n",
    "\n",
    "# **PCA** (Principal Components Analysis)"
   ]
  },
  {
   "cell_type": "markdown",
   "metadata": {},
   "source": [
    "### **What is PCA?**\n",
    "\n",
    "Let’s say that you want to predict what the gross domestic product (GDP) of the United States will be for 2017. You have lots of information available: the U.S. GDP for the first quarter of 2017, the U.S. GDP for the entirety of 2016, 2015, and so on. You have any publicly-available economic indicator, like the unemployment rate, inflation rate, and so on. You have U.S. Census data from 2010 estimating how many Americans work in each industry and American Community Survey data updating those estimates in between each census. You know how many members of the House and Senate belong to each political party. You could gather stock price data, the number of IPOs occurring in a year, and how many CEOs seem to be mounting a bid for public office. Despite being an overwhelming number of variables to consider, this just scratches the surface.\n",
    "\n",
    "TL;DR — you have a lot of variables to consider.\n",
    "\n",
    "If you’ve worked with a lot of variables before, you know this can present problems. Do you understand the relationships between each variable? Do you have so many variables that you are in danger of overfitting your model to your data or that you might be violating assumptions of whichever modeling tactic you’re using?\n",
    "\n",
    "You might ask the question, “How do I take all of the variables I’ve collected and focus on only a few of them?” In technical terms, you want to “reduce the dimension of your feature space.” By reducing the dimension of your feature space, you have fewer relationships between variables to consider and you are less likely to overfit your model. (Note: This doesn’t immediately mean that overfitting, etc. are no longer concerns — but we’re moving in the right direction!)\n",
    "\n",
    "Somewhat unsurprisingly, **reducin**g the **dimension** of the feature space is called **“dimensionality reduction.”** There are many ways to achieve dimensionality reduction, but most of these techniques fall into one of two classes:\n",
    "\n",
    "-    Feature Elimination\n",
    "-    Feature Extraction\n",
    "\n",
    "**Feature elimination** is what it sounds like: we reduce the feature space by eliminating features. In the GDP example above, instead of considering every single variable, we might drop all variables except the three we think will best predict what the U.S.’s gross domestic product will look like. Advantages of feature elimination methods include simplicity and maintaining interpretability of your variables.\n",
    "\n",
    "As a disadvantage, though, you gain no information from those variables you’ve dropped. If we only use last year’s GDP, the proportion of the population in manufacturing jobs per the most recent American Community Survey numbers, and unemployment rate to predict this year’s GDP, we’re missing out on whatever the dropped variables could contribute to our model. By eliminating features, we’ve also entirely eliminated any benefits those dropped variables would bring.\n",
    "\n",
    "**Feature extraction**, however, doesn’t run into this problem. Say we have ten independent variables. In feature extraction, we create ten “new” independent variables, where each “new” independent variable is a combination of each of the ten “old” independent variables. However, we create these new independent variables in a specific way and order these new variables by how well they predict our dependent variable.\n",
    "\n",
    "You might say, “Where does the dimensionality reduction come into play?” Well, we keep as many of the new independent variables as we want, but we drop the “least important ones.” Because we ordered the new variables by how well they predict our dependent variable, we know which variable is the most important and least important. But — and here’s the kicker — because these new independent variables are combinations of our old ones, we’re still keeping the most valuable parts of our old variables, even when we drop one or more of these “new” variables!\n",
    "\n",
    "Principal component analysis is a technique for feature extraction — so it combines our input variables in a specific way, then we can drop the “least important” variables while still retaining the most valuable parts of all of the variables! As an added benefit, each of the “new” variables after PCA are all independent of one another. This is a benefit because the assumptions of a linear model require our independent variables to be independent of one another. If we decide to fit a linear regression model with these “new” variables (see “principal component regression” below), this assumption will necessarily be satisfied."
   ]
  },
  {
   "cell_type": "markdown",
   "metadata": {},
   "source": [
    "### **When should I use PCA?**\n",
    "\n",
    "1.    Do you want to reduce the number of variables, but aren’t able to identify variables to completely remove from consideration?\n",
    "2.    Do you want to ensure your variables are independent of one another?\n",
    "3.    Are you comfortable making your independent variables less interpretable?\n",
    "\n",
    "If you answered “yes” to all three questions, then PCA is a good method to use. If you answered “no” to question 3, you **should not** use PCA.\n",
    "\n",
    "<hr>"
   ]
  },
  {
   "cell_type": "markdown",
   "metadata": {},
   "source": [
    "# ``Clustering``: **Mall Customers Dataset**"
   ]
  },
  {
   "cell_type": "code",
   "execution_count": 54,
   "metadata": {},
   "outputs": [],
   "source": [
    "import numpy as np\n",
    "import pandas as pd\n",
    "import matplotlib.pyplot as plt\n",
    "import seaborn as sns\n",
    "\n",
    "from sklearn.preprocessing import RobustScaler, StandardScaler\n",
    "from sklearn.preprocessing import normalize\n",
    "\n",
    "from sklearn.cluster import DBSCAN\n",
    "from sklearn.decomposition import PCA"
   ]
  },
  {
   "cell_type": "code",
   "execution_count": 55,
   "metadata": {},
   "outputs": [
    {
     "data": {
      "text/html": [
       "<div>\n",
       "<style scoped>\n",
       "    .dataframe tbody tr th:only-of-type {\n",
       "        vertical-align: middle;\n",
       "    }\n",
       "\n",
       "    .dataframe tbody tr th {\n",
       "        vertical-align: top;\n",
       "    }\n",
       "\n",
       "    .dataframe thead th {\n",
       "        text-align: right;\n",
       "    }\n",
       "</style>\n",
       "<table border=\"1\" class=\"dataframe\">\n",
       "  <thead>\n",
       "    <tr style=\"text-align: right;\">\n",
       "      <th></th>\n",
       "      <th>CustomerID</th>\n",
       "      <th>Gender</th>\n",
       "      <th>Age</th>\n",
       "      <th>Annual Income (k$)</th>\n",
       "      <th>Spending Score (1-100)</th>\n",
       "    </tr>\n",
       "  </thead>\n",
       "  <tbody>\n",
       "    <tr>\n",
       "      <th>0</th>\n",
       "      <td>1</td>\n",
       "      <td>Male</td>\n",
       "      <td>19</td>\n",
       "      <td>15</td>\n",
       "      <td>39</td>\n",
       "    </tr>\n",
       "    <tr>\n",
       "      <th>1</th>\n",
       "      <td>2</td>\n",
       "      <td>Male</td>\n",
       "      <td>21</td>\n",
       "      <td>15</td>\n",
       "      <td>81</td>\n",
       "    </tr>\n",
       "    <tr>\n",
       "      <th>2</th>\n",
       "      <td>3</td>\n",
       "      <td>Female</td>\n",
       "      <td>20</td>\n",
       "      <td>16</td>\n",
       "      <td>6</td>\n",
       "    </tr>\n",
       "    <tr>\n",
       "      <th>3</th>\n",
       "      <td>4</td>\n",
       "      <td>Female</td>\n",
       "      <td>23</td>\n",
       "      <td>16</td>\n",
       "      <td>77</td>\n",
       "    </tr>\n",
       "    <tr>\n",
       "      <th>4</th>\n",
       "      <td>5</td>\n",
       "      <td>Female</td>\n",
       "      <td>31</td>\n",
       "      <td>17</td>\n",
       "      <td>40</td>\n",
       "    </tr>\n",
       "  </tbody>\n",
       "</table>\n",
       "</div>"
      ],
      "text/plain": [
       "   CustomerID  Gender  Age  Annual Income (k$)  Spending Score (1-100)\n",
       "0           1    Male   19                  15                      39\n",
       "1           2    Male   21                  15                      81\n",
       "2           3  Female   20                  16                       6\n",
       "3           4  Female   23                  16                      77\n",
       "4           5  Female   31                  17                      40"
      ]
     },
     "execution_count": 55,
     "metadata": {},
     "output_type": "execute_result"
    }
   ],
   "source": [
    "df = pd.read_csv('Mall_Customers.csv')\n",
    "df.head()"
   ]
  },
  {
   "cell_type": "code",
   "execution_count": 56,
   "metadata": {},
   "outputs": [
    {
     "name": "stdout",
     "output_type": "stream",
     "text": [
      "<class 'pandas.core.frame.DataFrame'>\n",
      "RangeIndex: 200 entries, 0 to 199\n",
      "Data columns (total 5 columns):\n",
      " #   Column                  Non-Null Count  Dtype \n",
      "---  ------                  --------------  ----- \n",
      " 0   CustomerID              200 non-null    int64 \n",
      " 1   Gender                  200 non-null    object\n",
      " 2   Age                     200 non-null    int64 \n",
      " 3   Annual Income (k$)      200 non-null    int64 \n",
      " 4   Spending Score (1-100)  200 non-null    int64 \n",
      "dtypes: int64(4), object(1)\n",
      "memory usage: 7.1+ KB\n"
     ]
    }
   ],
   "source": [
    "df.info()"
   ]
  },
  {
   "cell_type": "code",
   "execution_count": 57,
   "metadata": {},
   "outputs": [],
   "source": [
    "df['Gender_Bin'] = [1 if i == 'Male' else 2 for i in df['Gender']]\n",
    "df.drop(['Gender'], axis = 1, inplace = True)"
   ]
  },
  {
   "cell_type": "code",
   "execution_count": 59,
   "metadata": {},
   "outputs": [],
   "source": [
    "df.rename(columns = {'Annual Income (k$)': 'Annual_Income', 'Spending Score (1-100)': 'Spending_Score'}, inplace = True)"
   ]
  },
  {
   "cell_type": "code",
   "execution_count": 60,
   "metadata": {},
   "outputs": [
    {
     "data": {
      "text/html": [
       "<div>\n",
       "<style scoped>\n",
       "    .dataframe tbody tr th:only-of-type {\n",
       "        vertical-align: middle;\n",
       "    }\n",
       "\n",
       "    .dataframe tbody tr th {\n",
       "        vertical-align: top;\n",
       "    }\n",
       "\n",
       "    .dataframe thead th {\n",
       "        text-align: right;\n",
       "    }\n",
       "</style>\n",
       "<table border=\"1\" class=\"dataframe\">\n",
       "  <thead>\n",
       "    <tr style=\"text-align: right;\">\n",
       "      <th></th>\n",
       "      <th>CustomerID</th>\n",
       "      <th>Age</th>\n",
       "      <th>Annual_Income</th>\n",
       "      <th>Spending_Score</th>\n",
       "      <th>Gender_Bin</th>\n",
       "    </tr>\n",
       "  </thead>\n",
       "  <tbody>\n",
       "    <tr>\n",
       "      <th>0</th>\n",
       "      <td>1</td>\n",
       "      <td>19</td>\n",
       "      <td>15</td>\n",
       "      <td>39</td>\n",
       "      <td>1</td>\n",
       "    </tr>\n",
       "    <tr>\n",
       "      <th>1</th>\n",
       "      <td>2</td>\n",
       "      <td>21</td>\n",
       "      <td>15</td>\n",
       "      <td>81</td>\n",
       "      <td>1</td>\n",
       "    </tr>\n",
       "    <tr>\n",
       "      <th>2</th>\n",
       "      <td>3</td>\n",
       "      <td>20</td>\n",
       "      <td>16</td>\n",
       "      <td>6</td>\n",
       "      <td>2</td>\n",
       "    </tr>\n",
       "    <tr>\n",
       "      <th>3</th>\n",
       "      <td>4</td>\n",
       "      <td>23</td>\n",
       "      <td>16</td>\n",
       "      <td>77</td>\n",
       "      <td>2</td>\n",
       "    </tr>\n",
       "    <tr>\n",
       "      <th>4</th>\n",
       "      <td>5</td>\n",
       "      <td>31</td>\n",
       "      <td>17</td>\n",
       "      <td>40</td>\n",
       "      <td>2</td>\n",
       "    </tr>\n",
       "  </tbody>\n",
       "</table>\n",
       "</div>"
      ],
      "text/plain": [
       "   CustomerID  Age  Annual_Income  Spending_Score  Gender_Bin\n",
       "0           1   19             15              39           1\n",
       "1           2   21             15              81           1\n",
       "2           3   20             16               6           2\n",
       "3           4   23             16              77           2\n",
       "4           5   31             17              40           2"
      ]
     },
     "execution_count": 60,
     "metadata": {},
     "output_type": "execute_result"
    }
   ],
   "source": [
    "df.head()"
   ]
  },
  {
   "cell_type": "markdown",
   "metadata": {},
   "source": [
    "### __Visualisasi__"
   ]
  },
  {
   "cell_type": "code",
   "execution_count": 61,
   "metadata": {},
   "outputs": [
    {
     "data": {
      "image/png": "[encoded data removed]",
      "text/plain": [
       "<Figure size 576x396 with 1 Axes>"
      ]
     },
     "metadata": {},
     "output_type": "display_data"
    }
   ],
   "source": [
    "plt.style.use('seaborn')\n",
    "plt.scatter(df['Annual_Income'], df['Spending_Score'])\n",
    "plt.xlabel('Annual_Income')\n",
    "plt.ylabel('Spending_Score')\n",
    "plt.show()"
   ]
  },
  {
   "cell_type": "markdown",
   "metadata": {},
   "source": [
    "### __Scalling__"
   ]
  },
  {
   "cell_type": "code",
   "execution_count": 63,
   "metadata": {},
   "outputs": [],
   "source": [
    "#membatasi dataset -> hanya pakai feature 'Annual Income' & 'Spending Score'\n",
    "df_clus = df[['Annual_Income', 'Spending_Score']]"
   ]
  },
  {
   "cell_type": "code",
   "execution_count": 64,
   "metadata": {},
   "outputs": [
    {
     "data": {
      "text/plain": [
       "<matplotlib.axes._subplots.AxesSubplot at 0x98076e8>"
      ]
     },
     "execution_count": 64,
     "metadata": {},
     "output_type": "execute_result"
    },
    {
     "data": {
      "image/png": "[encoded data removed]",
      "text/plain": [
       "<Figure size 576x396 with 1 Axes>"
      ]
     },
     "metadata": {},
     "output_type": "display_data"
    }
   ],
   "source": [
    "sns.boxplot(df['Annual_Income'])"
   ]
  },
  {
   "cell_type": "code",
   "execution_count": 65,
   "metadata": {},
   "outputs": [
    {
     "data": {
      "text/plain": [
       "<matplotlib.axes._subplots.AxesSubplot at 0x12e83190>"
      ]
     },
     "execution_count": 65,
     "metadata": {},
     "output_type": "execute_result"
    },
    {
     "data": {
      "image/png": "[encoded data removed]",
      "text/plain": [
       "<Figure size 576x396 with 1 Axes>"
      ]
     },
     "metadata": {},
     "output_type": "display_data"
    }
   ],
   "source": [
    "sns.boxplot(df['Spending_Score'])"
   ]
  },
  {
   "cell_type": "code",
   "execution_count": 66,
   "metadata": {},
   "outputs": [],
   "source": [
    "rbs_scl = RobustScaler().fit(df_clus)\n",
    "df_scl = rbs_scl.transform(df_clus)"
   ]
  },
  {
   "cell_type": "markdown",
   "metadata": {},
   "source": [
    "### __Clustering using DBSCAN__"
   ]
  },
  {
   "cell_type": "code",
   "execution_count": 92,
   "metadata": {},
   "outputs": [],
   "source": [
    "model = DBSCAN(eps = 0.3, min_samples = 10).fit(df_scl)"
   ]
  },
  {
   "cell_type": "code",
   "execution_count": 93,
   "metadata": {},
   "outputs": [
    {
     "name": "stdout",
     "output_type": "stream",
     "text": [
      "Cluster yang terbentuk:  [-1  0  1  2  3  4]\n",
      "[-1  0  1  0 -1  0  1 -1  1  0  1 -1  1  0  1  0 -1  0 -1 -1 -1  0  1  0\n",
      "  1  0  2 -1  2  0  1  0  1  0 -1  0 -1  0  2  2  2 -1  2  2  2  2  2  2\n",
      "  2  2  2  2  2  2  2  2  2  2  2  2  2  2  2  2  2  2  2  2  2  2  2  2\n",
      "  2  2  2  2  2  2  2  2  2  2  2  2  2  2  2  2  2  2  2  2  2  2  2  2\n",
      "  2  2  2  2  2  2  2  2  2  2  2  2  2  2  2  2  2  2  2  2  2  2  2  2\n",
      "  2  2  2  3  2  3  2  3  4  3  4  3  2  3  4  3  4  3  4  3  4  3  2  3\n",
      "  4  3  2  3  4  3  4  3  4  3  4  3  4  3  4  3  2  3  4  3  4  3  4  3\n",
      "  4 -1  4  3  4  3  4  3  4  3  4  3 -1  3  4  3 -1 -1 -1 -1 -1 -1 -1 -1\n",
      " -1 -1 -1 -1 -1 -1 -1 -1]\n"
     ]
    }
   ],
   "source": [
    "# cara pertama\n",
    "labels = model.labels_\n",
    "print('Cluster yang terbentuk: ', pd.unique(labels)) # label -1 dianggap outlier/anomalies\n",
    "print(labels)"
   ]
  },
  {
   "cell_type": "code",
   "execution_count": 94,
   "metadata": {},
   "outputs": [
    {
     "name": "stdout",
     "output_type": "stream",
     "text": [
      "Cluster yang terbentuk:  [-1  0  1  2  3  4]\n",
      "[-1  0  1  0 -1  0  1 -1  1  0  1 -1  1  0  1  0 -1  0 -1 -1 -1  0  1  0\n",
      "  1  0  2 -1  2  0  1  0  1  0 -1  0 -1  0  2  2  2 -1  2  2  2  2  2  2\n",
      "  2  2  2  2  2  2  2  2  2  2  2  2  2  2  2  2  2  2  2  2  2  2  2  2\n",
      "  2  2  2  2  2  2  2  2  2  2  2  2  2  2  2  2  2  2  2  2  2  2  2  2\n",
      "  2  2  2  2  2  2  2  2  2  2  2  2  2  2  2  2  2  2  2  2  2  2  2  2\n",
      "  2  2  2  3  2  3  2  3  4  3  4  3  2  3  4  3  4  3  4  3  4  3  2  3\n",
      "  4  3  2  3  4  3  4  3  4  3  4  3  4  3  4  3  2  3  4  3  4  3  4  3\n",
      "  4 -1  4  3  4  3  4  3  4  3  4  3 -1  3  4  3 -1 -1 -1 -1 -1 -1 -1 -1\n",
      " -1 -1 -1 -1 -1 -1 -1 -1]\n"
     ]
    }
   ],
   "source": [
    "# cara kedua\n",
    "pred_cluster = model.fit_predict(df_scl)\n",
    "print('Cluster yang terbentuk: ', pd.unique(pred_cluster))\n",
    "print(pred_cluster)"
   ]
  },
  {
   "cell_type": "markdown",
   "metadata": {},
   "source": [
    "### __Visualisasi Clustering__"
   ]
  },
  {
   "cell_type": "code",
   "execution_count": 95,
   "metadata": {},
   "outputs": [
    {
     "data": {
      "image/png": "[encoded data removed]",
      "text/plain": [
       "<Figure size 576x396 with 1 Axes>"
      ]
     },
     "metadata": {},
     "output_type": "display_data"
    }
   ],
   "source": [
    "# cara pertama\n",
    "clusters = pd.unique(pred_cluster)\n",
    "for i in clusters:\n",
    "    row = np.where(i == pred_cluster)\n",
    "    plt.scatter(df_scl[row, 0], df_scl[row, 1])\n",
    "plt.show()"
   ]
  },
  {
   "cell_type": "code",
   "execution_count": 96,
   "metadata": {},
   "outputs": [
    {
     "data": {
      "image/png": "[encoded data removed]",
      "text/plain": [
       "<Figure size 576x396 with 1 Axes>"
      ]
     },
     "metadata": {},
     "output_type": "display_data"
    }
   ],
   "source": [
    "# cara kedua\n",
    "from matplotlib import cm\n",
    "\n",
    "cmap = cm.get_cmap('Accent')\n",
    "df.plot.scatter(\n",
    "    x = 'Annual_Income',\n",
    "    y = 'Spending_Score',\n",
    "    c = labels,\n",
    "    cmap = cmap,\n",
    "    colorbar = False\n",
    ")\n",
    "plt.show()"
   ]
  },
  {
   "cell_type": "markdown",
   "metadata": {},
   "source": [
    "<hr>\n",
    "\n",
    "# ``PCA``: **Credit Card Dataset**"
   ]
  },
  {
   "cell_type": "markdown",
   "metadata": {},
   "source": [
    "This case requires to develop a customer segmentation to define marketing strategy. The\n",
    "sample Dataset summarizes the usage behavior of about 9000 active credit card holders during the last 6 months. The file is at a customer level with 18 behavioral variables.\n",
    "\n",
    "Following is the Data Dictionary for Credit Card dataset :-\n",
    "\n",
    "- CUSTID : Identification of Credit Card holder (Categorical)\n",
    "- BALANCE : Balance amount left in their account to make purchases (\n",
    "- BALANCEFREQUENCY : How frequently the Balance is updated, score between 0 and 1 (1 = frequently updated, 0 = not frequently updated)\n",
    "- PURCHASES : Amount of purchases made from account\n",
    "- ONEOFFPURCHASES : Maximum purchase amount done in one-go\n",
    "- INSTALLMENTSPURCHASES : Amount of purchase done in installment\n",
    "- CASHADVANCE : Cash in advance given by the user\n",
    "- PURCHASESFREQUENCY : How frequently the Purchases are being made, score between 0 and 1 (1 = frequently purchased, 0 = not frequently purchased)\n",
    "- ONEOFFPURCHASESFREQUENCY : How frequently Purchases are happening in one-go (1 = frequently purchased, 0 = not frequently purchased)\n",
    "- PURCHASESINSTALLMENTSFREQUENCY : How frequently purchases in installments are being done (1 = frequently done, 0 = not frequently done)\n",
    "- CASHADVANCEFREQUENCY : How frequently the cash in advance being paid\n",
    "- CASHADVANCETRX : Number of Transactions made with \"Cash in Advanced\"\n",
    "- PURCHASESTRX : Numbe of purchase transactions made\n",
    "- CREDITLIMIT : Limit of Credit Card for user\n",
    "- PAYMENTS : Amount of Payment done by user\n",
    "- MINIMUM_PAYMENTS : Minimum amount of payments made by user\n",
    "- PRCFULLPAYMENT : Percent of full payment paid by user\n",
    "- TENURE : Tenure of credit card service for user"
   ]
  },
  {
   "cell_type": "code",
   "execution_count": 98,
   "metadata": {},
   "outputs": [
    {
     "data": {
      "text/html": [
       "<div>\n",
       "<style scoped>\n",
       "    .dataframe tbody tr th:only-of-type {\n",
       "        vertical-align: middle;\n",
       "    }\n",
       "\n",
       "    .dataframe tbody tr th {\n",
       "        vertical-align: top;\n",
       "    }\n",
       "\n",
       "    .dataframe thead th {\n",
       "        text-align: right;\n",
       "    }\n",
       "</style>\n",
       "<table border=\"1\" class=\"dataframe\">\n",
       "  <thead>\n",
       "    <tr style=\"text-align: right;\">\n",
       "      <th></th>\n",
       "      <th>CUST_ID</th>\n",
       "      <th>BALANCE</th>\n",
       "      <th>BALANCE_FREQUENCY</th>\n",
       "      <th>PURCHASES</th>\n",
       "      <th>ONEOFF_PURCHASES</th>\n",
       "      <th>INSTALLMENTS_PURCHASES</th>\n",
       "      <th>CASH_ADVANCE</th>\n",
       "      <th>PURCHASES_FREQUENCY</th>\n",
       "      <th>ONEOFF_PURCHASES_FREQUENCY</th>\n",
       "      <th>PURCHASES_INSTALLMENTS_FREQUENCY</th>\n",
       "      <th>CASH_ADVANCE_FREQUENCY</th>\n",
       "      <th>CASH_ADVANCE_TRX</th>\n",
       "      <th>PURCHASES_TRX</th>\n",
       "      <th>CREDIT_LIMIT</th>\n",
       "      <th>PAYMENTS</th>\n",
       "      <th>MINIMUM_PAYMENTS</th>\n",
       "      <th>PRC_FULL_PAYMENT</th>\n",
       "      <th>TENURE</th>\n",
       "    </tr>\n",
       "  </thead>\n",
       "  <tbody>\n",
       "    <tr>\n",
       "      <th>0</th>\n",
       "      <td>C10001</td>\n",
       "      <td>40.900749</td>\n",
       "      <td>0.818182</td>\n",
       "      <td>95.4</td>\n",
       "      <td>0.0</td>\n",
       "      <td>95.4</td>\n",
       "      <td>0.000000</td>\n",
       "      <td>0.166667</td>\n",
       "      <td>0.0</td>\n",
       "      <td>0.083333</td>\n",
       "      <td>0.00</td>\n",
       "      <td>0</td>\n",
       "      <td>2</td>\n",
       "      <td>1000.0</td>\n",
       "      <td>201.802084</td>\n",
       "      <td>139.509787</td>\n",
       "      <td>0.000000</td>\n",
       "      <td>12</td>\n",
       "    </tr>\n",
       "    <tr>\n",
       "      <th>1</th>\n",
       "      <td>C10002</td>\n",
       "      <td>3202.467416</td>\n",
       "      <td>0.909091</td>\n",
       "      <td>0.0</td>\n",
       "      <td>0.0</td>\n",
       "      <td>0.0</td>\n",
       "      <td>6442.945483</td>\n",
       "      <td>0.000000</td>\n",
       "      <td>0.0</td>\n",
       "      <td>0.000000</td>\n",
       "      <td>0.25</td>\n",
       "      <td>4</td>\n",
       "      <td>0</td>\n",
       "      <td>7000.0</td>\n",
       "      <td>4103.032597</td>\n",
       "      <td>1072.340217</td>\n",
       "      <td>0.222222</td>\n",
       "      <td>12</td>\n",
       "    </tr>\n",
       "  </tbody>\n",
       "</table>\n",
       "</div>"
      ],
      "text/plain": [
       "  CUST_ID      BALANCE  BALANCE_FREQUENCY  PURCHASES  ONEOFF_PURCHASES  \\\n",
       "0  C10001    40.900749           0.818182       95.4               0.0   \n",
       "1  C10002  3202.467416           0.909091        0.0               0.0   \n",
       "\n",
       "   INSTALLMENTS_PURCHASES  CASH_ADVANCE  PURCHASES_FREQUENCY  \\\n",
       "0                    95.4      0.000000             0.166667   \n",
       "1                     0.0   6442.945483             0.000000   \n",
       "\n",
       "   ONEOFF_PURCHASES_FREQUENCY  PURCHASES_INSTALLMENTS_FREQUENCY  \\\n",
       "0                         0.0                          0.083333   \n",
       "1                         0.0                          0.000000   \n",
       "\n",
       "   CASH_ADVANCE_FREQUENCY  CASH_ADVANCE_TRX  PURCHASES_TRX  CREDIT_LIMIT  \\\n",
       "0                    0.00                 0              2        1000.0   \n",
       "1                    0.25                 4              0        7000.0   \n",
       "\n",
       "      PAYMENTS  MINIMUM_PAYMENTS  PRC_FULL_PAYMENT  TENURE  \n",
       "0   201.802084        139.509787          0.000000      12  \n",
       "1  4103.032597       1072.340217          0.222222      12  "
      ]
     },
     "execution_count": 98,
     "metadata": {},
     "output_type": "execute_result"
    }
   ],
   "source": [
    "# open dataset\n",
    "data = pd.read_csv('CC GENERAL.csv')\n",
    "data.head(2)"
   ]
  },
  {
   "cell_type": "code",
   "execution_count": 99,
   "metadata": {},
   "outputs": [],
   "source": [
    "# drop feature\n",
    "data.drop('CUST_ID', axis = 1, inplace = True)"
   ]
  },
  {
   "cell_type": "code",
   "execution_count": 100,
   "metadata": {},
   "outputs": [
    {
     "data": {
      "text/plain": [
       "(8950, 17)"
      ]
     },
     "execution_count": 100,
     "metadata": {},
     "output_type": "execute_result"
    }
   ],
   "source": [
    "data.shape"
   ]
  },
  {
   "cell_type": "markdown",
   "metadata": {},
   "source": [
    "### __Checking Missing Value__"
   ]
  },
  {
   "cell_type": "code",
   "execution_count": 101,
   "metadata": {},
   "outputs": [
    {
     "data": {
      "text/plain": [
       "BALANCE                               0\n",
       "BALANCE_FREQUENCY                     0\n",
       "PURCHASES                             0\n",
       "ONEOFF_PURCHASES                      0\n",
       "INSTALLMENTS_PURCHASES                0\n",
       "CASH_ADVANCE                          0\n",
       "PURCHASES_FREQUENCY                   0\n",
       "ONEOFF_PURCHASES_FREQUENCY            0\n",
       "PURCHASES_INSTALLMENTS_FREQUENCY      0\n",
       "CASH_ADVANCE_FREQUENCY                0\n",
       "CASH_ADVANCE_TRX                      0\n",
       "PURCHASES_TRX                         0\n",
       "CREDIT_LIMIT                          1\n",
       "PAYMENTS                              0\n",
       "MINIMUM_PAYMENTS                    313\n",
       "PRC_FULL_PAYMENT                      0\n",
       "TENURE                                0\n",
       "dtype: int64"
      ]
     },
     "execution_count": 101,
     "metadata": {},
     "output_type": "execute_result"
    }
   ],
   "source": [
    "data.isna().sum()"
   ]
  },
  {
   "cell_type": "markdown",
   "metadata": {},
   "source": [
    "### __Drop Missing Values__"
   ]
  },
  {
   "cell_type": "code",
   "execution_count": 103,
   "metadata": {},
   "outputs": [],
   "source": [
    "data.dropna(inplace=True)"
   ]
  },
  {
   "cell_type": "code",
   "execution_count": 104,
   "metadata": {},
   "outputs": [
    {
     "name": "stdout",
     "output_type": "stream",
     "text": [
      "<class 'pandas.core.frame.DataFrame'>\n",
      "Int64Index: 8636 entries, 0 to 8949\n",
      "Data columns (total 17 columns):\n",
      " #   Column                            Non-Null Count  Dtype  \n",
      "---  ------                            --------------  -----  \n",
      " 0   BALANCE                           8636 non-null   float64\n",
      " 1   BALANCE_FREQUENCY                 8636 non-null   float64\n",
      " 2   PURCHASES                         8636 non-null   float64\n",
      " 3   ONEOFF_PURCHASES                  8636 non-null   float64\n",
      " 4   INSTALLMENTS_PURCHASES            8636 non-null   float64\n",
      " 5   CASH_ADVANCE                      8636 non-null   float64\n",
      " 6   PURCHASES_FREQUENCY               8636 non-null   float64\n",
      " 7   ONEOFF_PURCHASES_FREQUENCY        8636 non-null   float64\n",
      " 8   PURCHASES_INSTALLMENTS_FREQUENCY  8636 non-null   float64\n",
      " 9   CASH_ADVANCE_FREQUENCY            8636 non-null   float64\n",
      " 10  CASH_ADVANCE_TRX                  8636 non-null   int64  \n",
      " 11  PURCHASES_TRX                     8636 non-null   int64  \n",
      " 12  CREDIT_LIMIT                      8636 non-null   float64\n",
      " 13  PAYMENTS                          8636 non-null   float64\n",
      " 14  MINIMUM_PAYMENTS                  8636 non-null   float64\n",
      " 15  PRC_FULL_PAYMENT                  8636 non-null   float64\n",
      " 16  TENURE                            8636 non-null   int64  \n",
      "dtypes: float64(14), int64(3)\n",
      "memory usage: 1.2 MB\n"
     ]
    }
   ],
   "source": [
    "data.info()"
   ]
  },
  {
   "cell_type": "markdown",
   "metadata": {},
   "source": [
    "### __Preprocessing Dataset__ (optional)"
   ]
  },
  {
   "cell_type": "code",
   "execution_count": 106,
   "metadata": {},
   "outputs": [
    {
     "data": {
      "text/html": [
       "<div>\n",
       "<style scoped>\n",
       "    .dataframe tbody tr th:only-of-type {\n",
       "        vertical-align: middle;\n",
       "    }\n",
       "\n",
       "    .dataframe tbody tr th {\n",
       "        vertical-align: top;\n",
       "    }\n",
       "\n",
       "    .dataframe thead th {\n",
       "        text-align: right;\n",
       "    }\n",
       "</style>\n",
       "<table border=\"1\" class=\"dataframe\">\n",
       "  <thead>\n",
       "    <tr style=\"text-align: right;\">\n",
       "      <th></th>\n",
       "      <th>0</th>\n",
       "      <th>1</th>\n",
       "      <th>2</th>\n",
       "      <th>3</th>\n",
       "      <th>4</th>\n",
       "      <th>5</th>\n",
       "      <th>6</th>\n",
       "      <th>7</th>\n",
       "      <th>8</th>\n",
       "      <th>9</th>\n",
       "      <th>10</th>\n",
       "      <th>11</th>\n",
       "      <th>12</th>\n",
       "      <th>13</th>\n",
       "      <th>14</th>\n",
       "      <th>15</th>\n",
       "      <th>16</th>\n",
       "    </tr>\n",
       "  </thead>\n",
       "  <tbody>\n",
       "    <tr>\n",
       "      <th>0</th>\n",
       "      <td>-0.199497</td>\n",
       "      <td>-0.891454</td>\n",
       "      <td>-0.113191</td>\n",
       "      <td>-0.033476</td>\n",
       "      <td>0.000566</td>\n",
       "      <td>0.000000</td>\n",
       "      <td>-0.178290</td>\n",
       "      <td>-0.111431</td>\n",
       "      <td>-0.049526</td>\n",
       "      <td>0.000000</td>\n",
       "      <td>0.000000</td>\n",
       "      <td>-0.131096</td>\n",
       "      <td>-0.181929</td>\n",
       "      <td>-0.202093</td>\n",
       "      <td>-0.117448</td>\n",
       "      <td>0.000000</td>\n",
       "      <td>0.0</td>\n",
       "    </tr>\n",
       "    <tr>\n",
       "      <th>1</th>\n",
       "      <td>0.172756</td>\n",
       "      <td>-0.147926</td>\n",
       "      <td>-0.050364</td>\n",
       "      <td>-0.011110</td>\n",
       "      <td>-0.028960</td>\n",
       "      <td>0.841655</td>\n",
       "      <td>-0.088755</td>\n",
       "      <td>-0.036981</td>\n",
       "      <td>-0.032872</td>\n",
       "      <td>0.147926</td>\n",
       "      <td>0.147926</td>\n",
       "      <td>-0.060911</td>\n",
       "      <td>0.120756</td>\n",
       "      <td>0.309479</td>\n",
       "      <td>0.171265</td>\n",
       "      <td>0.197234</td>\n",
       "      <td>0.0</td>\n",
       "    </tr>\n",
       "    <tr>\n",
       "      <th>2</th>\n",
       "      <td>0.238221</td>\n",
       "      <td>0.000000</td>\n",
       "      <td>0.106564</td>\n",
       "      <td>0.359039</td>\n",
       "      <td>-0.057832</td>\n",
       "      <td>0.000000</td>\n",
       "      <td>0.177238</td>\n",
       "      <td>0.812341</td>\n",
       "      <td>-0.065644</td>\n",
       "      <td>0.000000</td>\n",
       "      <td>0.000000</td>\n",
       "      <td>0.086881</td>\n",
       "      <td>0.271282</td>\n",
       "      <td>-0.052929</td>\n",
       "      <td>0.141697</td>\n",
       "      <td>0.000000</td>\n",
       "      <td>0.0</td>\n",
       "    </tr>\n",
       "  </tbody>\n",
       "</table>\n",
       "</div>"
      ],
      "text/plain": [
       "          0         1         2         3         4         5         6  \\\n",
       "0 -0.199497 -0.891454 -0.113191 -0.033476  0.000566  0.000000 -0.178290   \n",
       "1  0.172756 -0.147926 -0.050364 -0.011110 -0.028960  0.841655 -0.088755   \n",
       "2  0.238221  0.000000  0.106564  0.359039 -0.057832  0.000000  0.177238   \n",
       "\n",
       "          7         8         9        10        11        12        13  \\\n",
       "0 -0.111431 -0.049526  0.000000  0.000000 -0.131096 -0.181929 -0.202093   \n",
       "1 -0.036981 -0.032872  0.147926  0.147926 -0.060911  0.120756  0.309479   \n",
       "2  0.812341 -0.065644  0.000000  0.000000  0.086881  0.271282 -0.052929   \n",
       "\n",
       "         14        15   16  \n",
       "0 -0.117448  0.000000  0.0  \n",
       "1  0.171265  0.197234  0.0  \n",
       "2  0.141697  0.000000  0.0  "
      ]
     },
     "execution_count": 106,
     "metadata": {},
     "output_type": "execute_result"
    }
   ],
   "source": [
    "# scalling\n",
    "data_scl = RobustScaler().fit_transform(data)\n",
    "\n",
    "# normalisasi\n",
    "data_norm = normalize(data_scl)\n",
    "\n",
    "#convert to dataframe\n",
    "df_norm = pd.DataFrame(data_norm)\n",
    "df_norm.head(3)"
   ]
  },
  {
   "cell_type": "markdown",
   "metadata": {},
   "source": [
    "### __PCA: Principal Component Analysis => Reducing the dimensionality of the data__"
   ]
  },
  {
   "cell_type": "code",
   "execution_count": 118,
   "metadata": {},
   "outputs": [
    {
     "data": {
      "text/html": [
       "<div>\n",
       "<style scoped>\n",
       "    .dataframe tbody tr th:only-of-type {\n",
       "        vertical-align: middle;\n",
       "    }\n",
       "\n",
       "    .dataframe tbody tr th {\n",
       "        vertical-align: top;\n",
       "    }\n",
       "\n",
       "    .dataframe thead th {\n",
       "        text-align: right;\n",
       "    }\n",
       "</style>\n",
       "<table border=\"1\" class=\"dataframe\">\n",
       "  <thead>\n",
       "    <tr style=\"text-align: right;\">\n",
       "      <th></th>\n",
       "      <th>V1</th>\n",
       "      <th>V2</th>\n",
       "      <th>V3</th>\n",
       "      <th>V4</th>\n",
       "      <th>V5</th>\n",
       "    </tr>\n",
       "  </thead>\n",
       "  <tbody>\n",
       "    <tr>\n",
       "      <th>0</th>\n",
       "      <td>0.027028</td>\n",
       "      <td>0.875644</td>\n",
       "      <td>-0.214965</td>\n",
       "      <td>-0.187003</td>\n",
       "      <td>0.197813</td>\n",
       "    </tr>\n",
       "    <tr>\n",
       "      <th>1</th>\n",
       "      <td>0.423490</td>\n",
       "      <td>-0.091033</td>\n",
       "      <td>-0.011109</td>\n",
       "      <td>-0.107467</td>\n",
       "      <td>-0.473145</td>\n",
       "    </tr>\n",
       "    <tr>\n",
       "      <th>2</th>\n",
       "      <td>-0.244919</td>\n",
       "      <td>-0.397203</td>\n",
       "      <td>-0.484045</td>\n",
       "      <td>0.264097</td>\n",
       "      <td>0.222875</td>\n",
       "    </tr>\n",
       "  </tbody>\n",
       "</table>\n",
       "</div>"
      ],
      "text/plain": [
       "         V1        V2        V3        V4        V5\n",
       "0  0.027028  0.875644 -0.214965 -0.187003  0.197813\n",
       "1  0.423490 -0.091033 -0.011109 -0.107467 -0.473145\n",
       "2 -0.244919 -0.397203 -0.484045  0.264097  0.222875"
      ]
     },
     "execution_count": 118,
     "metadata": {},
     "output_type": "execute_result"
    }
   ],
   "source": [
    "#direduksi menjadi 5 kolom\n",
    "pca = PCA(n_components = 5) \n",
    "\n",
    "# reduksi dimensi\n",
    "df_pca = pca.fit_transform(df_norm)\n",
    "\n",
    "# convert to dataframe\n",
    "df_pca = pd.DataFrame(df_pca)\n",
    "df_pca.columns = ['V1', 'V2', 'V3', 'V4', 'V5']\n",
    "df_pca.head(3)"
   ]
  },
  {
   "cell_type": "code",
   "execution_count": 119,
   "metadata": {},
   "outputs": [
    {
     "data": {
      "text/plain": [
       "array([0.24644152, 0.192206  , 0.10491606, 0.0881604 , 0.07869548])"
      ]
     },
     "execution_count": 119,
     "metadata": {},
     "output_type": "execute_result"
    }
   ],
   "source": [
    "# Mengetahui 'information ration' dari hasil PCA\n",
    "pca.explained_variance_ratio_"
   ]
  },
  {
   "cell_type": "code",
   "execution_count": 120,
   "metadata": {},
   "outputs": [
    {
     "name": "stdout",
     "output_type": "stream",
     "text": [
      "Information Ratio dari hasil PCA sebesar:  71.04 persen\n"
     ]
    }
   ],
   "source": [
    "print('Information Ratio dari hasil PCA sebesar: ', round(sum(pca.explained_variance_ratio_.tolist())*100, 2), \"persen\")"
   ]
  },
  {
   "cell_type": "markdown",
   "metadata": {},
   "source": [
    "### (optional): Inverse Tranform => mengembalikan ke data awal, tapi tetap ada information loss"
   ]
  },
  {
   "cell_type": "code",
   "execution_count": 122,
   "metadata": {},
   "outputs": [
    {
     "data": {
      "text/html": [
       "<div>\n",
       "<style scoped>\n",
       "    .dataframe tbody tr th:only-of-type {\n",
       "        vertical-align: middle;\n",
       "    }\n",
       "\n",
       "    .dataframe tbody tr th {\n",
       "        vertical-align: top;\n",
       "    }\n",
       "\n",
       "    .dataframe thead th {\n",
       "        text-align: right;\n",
       "    }\n",
       "</style>\n",
       "<table border=\"1\" class=\"dataframe\">\n",
       "  <thead>\n",
       "    <tr style=\"text-align: right;\">\n",
       "      <th></th>\n",
       "      <th>0</th>\n",
       "      <th>1</th>\n",
       "      <th>2</th>\n",
       "      <th>3</th>\n",
       "      <th>4</th>\n",
       "      <th>5</th>\n",
       "      <th>6</th>\n",
       "      <th>7</th>\n",
       "      <th>8</th>\n",
       "      <th>9</th>\n",
       "      <th>10</th>\n",
       "      <th>11</th>\n",
       "      <th>12</th>\n",
       "      <th>13</th>\n",
       "      <th>14</th>\n",
       "      <th>15</th>\n",
       "      <th>16</th>\n",
       "    </tr>\n",
       "  </thead>\n",
       "  <tbody>\n",
       "    <tr>\n",
       "      <th>0</th>\n",
       "      <td>-0.110762</td>\n",
       "      <td>-0.895584</td>\n",
       "      <td>-0.139293</td>\n",
       "      <td>-0.048416</td>\n",
       "      <td>-0.073545</td>\n",
       "      <td>-0.035791</td>\n",
       "      <td>-0.145482</td>\n",
       "      <td>-0.084038</td>\n",
       "      <td>-0.022316</td>\n",
       "      <td>0.006047</td>\n",
       "      <td>-0.035496</td>\n",
       "      <td>-0.158307</td>\n",
       "      <td>-0.071496</td>\n",
       "      <td>-0.172220</td>\n",
       "      <td>-0.028417</td>\n",
       "      <td>0.118692</td>\n",
       "      <td>-0.180170</td>\n",
       "    </tr>\n",
       "    <tr>\n",
       "      <th>1</th>\n",
       "      <td>0.186512</td>\n",
       "      <td>-0.210922</td>\n",
       "      <td>-0.005641</td>\n",
       "      <td>-0.004805</td>\n",
       "      <td>0.038444</td>\n",
       "      <td>0.513703</td>\n",
       "      <td>-0.072318</td>\n",
       "      <td>-0.042881</td>\n",
       "      <td>-0.026626</td>\n",
       "      <td>0.314239</td>\n",
       "      <td>0.454677</td>\n",
       "      <td>-0.027334</td>\n",
       "      <td>0.155467</td>\n",
       "      <td>0.308142</td>\n",
       "      <td>0.123023</td>\n",
       "      <td>0.151365</td>\n",
       "      <td>0.000381</td>\n",
       "    </tr>\n",
       "    <tr>\n",
       "      <th>2</th>\n",
       "      <td>0.119403</td>\n",
       "      <td>-0.012411</td>\n",
       "      <td>0.266757</td>\n",
       "      <td>0.615850</td>\n",
       "      <td>0.007336</td>\n",
       "      <td>0.002973</td>\n",
       "      <td>-0.038515</td>\n",
       "      <td>0.429866</td>\n",
       "      <td>-0.059193</td>\n",
       "      <td>0.040621</td>\n",
       "      <td>0.029257</td>\n",
       "      <td>0.149498</td>\n",
       "      <td>0.091649</td>\n",
       "      <td>0.052328</td>\n",
       "      <td>0.162356</td>\n",
       "      <td>-0.028223</td>\n",
       "      <td>-0.073262</td>\n",
       "    </tr>\n",
       "    <tr>\n",
       "      <th>3</th>\n",
       "      <td>-0.063831</td>\n",
       "      <td>-0.135940</td>\n",
       "      <td>-0.276272</td>\n",
       "      <td>0.054252</td>\n",
       "      <td>-0.312642</td>\n",
       "      <td>0.022458</td>\n",
       "      <td>-0.364828</td>\n",
       "      <td>-0.004092</td>\n",
       "      <td>-0.165163</td>\n",
       "      <td>0.219302</td>\n",
       "      <td>0.189166</td>\n",
       "      <td>-0.344180</td>\n",
       "      <td>-0.219626</td>\n",
       "      <td>-0.439613</td>\n",
       "      <td>0.006639</td>\n",
       "      <td>0.091566</td>\n",
       "      <td>-0.270429</td>\n",
       "    </tr>\n",
       "    <tr>\n",
       "      <th>4</th>\n",
       "      <td>0.235384</td>\n",
       "      <td>-0.014395</td>\n",
       "      <td>0.100239</td>\n",
       "      <td>-0.006654</td>\n",
       "      <td>0.411377</td>\n",
       "      <td>0.040673</td>\n",
       "      <td>0.139131</td>\n",
       "      <td>-0.066700</td>\n",
       "      <td>0.323929</td>\n",
       "      <td>0.032598</td>\n",
       "      <td>0.034797</td>\n",
       "      <td>0.237856</td>\n",
       "      <td>0.011613</td>\n",
       "      <td>-0.027977</td>\n",
       "      <td>0.539889</td>\n",
       "      <td>-0.117192</td>\n",
       "      <td>-0.048454</td>\n",
       "    </tr>\n",
       "  </tbody>\n",
       "</table>\n",
       "</div>"
      ],
      "text/plain": [
       "          0         1         2         3         4         5         6  \\\n",
       "0 -0.110762 -0.895584 -0.139293 -0.048416 -0.073545 -0.035791 -0.145482   \n",
       "1  0.186512 -0.210922 -0.005641 -0.004805  0.038444  0.513703 -0.072318   \n",
       "2  0.119403 -0.012411  0.266757  0.615850  0.007336  0.002973 -0.038515   \n",
       "3 -0.063831 -0.135940 -0.276272  0.054252 -0.312642  0.022458 -0.364828   \n",
       "4  0.235384 -0.014395  0.100239 -0.006654  0.411377  0.040673  0.139131   \n",
       "\n",
       "          7         8         9        10        11        12        13  \\\n",
       "0 -0.084038 -0.022316  0.006047 -0.035496 -0.158307 -0.071496 -0.172220   \n",
       "1 -0.042881 -0.026626  0.314239  0.454677 -0.027334  0.155467  0.308142   \n",
       "2  0.429866 -0.059193  0.040621  0.029257  0.149498  0.091649  0.052328   \n",
       "3 -0.004092 -0.165163  0.219302  0.189166 -0.344180 -0.219626 -0.439613   \n",
       "4 -0.066700  0.323929  0.032598  0.034797  0.237856  0.011613 -0.027977   \n",
       "\n",
       "         14        15        16  \n",
       "0 -0.028417  0.118692 -0.180170  \n",
       "1  0.123023  0.151365  0.000381  \n",
       "2  0.162356 -0.028223 -0.073262  \n",
       "3  0.006639  0.091566 -0.270429  \n",
       "4  0.539889 -0.117192 -0.048454  "
      ]
     },
     "execution_count": 122,
     "metadata": {},
     "output_type": "execute_result"
    }
   ],
   "source": [
    "df_NewNormal = pca.inverse_transform(df_pca)\n",
    "df_NewNormal = pd.DataFrame(df_NewNormal)\n",
    "df_NewNormal.head()"
   ]
  },
  {
   "cell_type": "code",
   "execution_count": 123,
   "metadata": {},
   "outputs": [
    {
     "data": {
      "text/html": [
       "<div>\n",
       "<style scoped>\n",
       "    .dataframe tbody tr th:only-of-type {\n",
       "        vertical-align: middle;\n",
       "    }\n",
       "\n",
       "    .dataframe tbody tr th {\n",
       "        vertical-align: top;\n",
       "    }\n",
       "\n",
       "    .dataframe thead th {\n",
       "        text-align: right;\n",
       "    }\n",
       "</style>\n",
       "<table border=\"1\" class=\"dataframe\">\n",
       "  <thead>\n",
       "    <tr style=\"text-align: right;\">\n",
       "      <th></th>\n",
       "      <th>0</th>\n",
       "      <th>1</th>\n",
       "      <th>2</th>\n",
       "      <th>3</th>\n",
       "      <th>4</th>\n",
       "      <th>5</th>\n",
       "      <th>6</th>\n",
       "      <th>7</th>\n",
       "      <th>8</th>\n",
       "      <th>9</th>\n",
       "      <th>10</th>\n",
       "      <th>11</th>\n",
       "      <th>12</th>\n",
       "      <th>13</th>\n",
       "      <th>14</th>\n",
       "      <th>15</th>\n",
       "      <th>16</th>\n",
       "    </tr>\n",
       "  </thead>\n",
       "  <tbody>\n",
       "    <tr>\n",
       "      <th>0</th>\n",
       "      <td>-0.199497</td>\n",
       "      <td>-0.891454</td>\n",
       "      <td>-0.113191</td>\n",
       "      <td>-0.033476</td>\n",
       "      <td>0.000566</td>\n",
       "      <td>0.000000</td>\n",
       "      <td>-0.178290</td>\n",
       "      <td>-0.111431</td>\n",
       "      <td>-0.049526</td>\n",
       "      <td>0.000000</td>\n",
       "      <td>0.000000</td>\n",
       "      <td>-0.131096</td>\n",
       "      <td>-0.181929</td>\n",
       "      <td>-0.202093</td>\n",
       "      <td>-0.117448</td>\n",
       "      <td>0.000000</td>\n",
       "      <td>0.0</td>\n",
       "    </tr>\n",
       "    <tr>\n",
       "      <th>1</th>\n",
       "      <td>0.172756</td>\n",
       "      <td>-0.147926</td>\n",
       "      <td>-0.050364</td>\n",
       "      <td>-0.011110</td>\n",
       "      <td>-0.028960</td>\n",
       "      <td>0.841655</td>\n",
       "      <td>-0.088755</td>\n",
       "      <td>-0.036981</td>\n",
       "      <td>-0.032872</td>\n",
       "      <td>0.147926</td>\n",
       "      <td>0.147926</td>\n",
       "      <td>-0.060911</td>\n",
       "      <td>0.120756</td>\n",
       "      <td>0.309479</td>\n",
       "      <td>0.171265</td>\n",
       "      <td>0.197234</td>\n",
       "      <td>0.0</td>\n",
       "    </tr>\n",
       "    <tr>\n",
       "      <th>2</th>\n",
       "      <td>0.238221</td>\n",
       "      <td>0.000000</td>\n",
       "      <td>0.106564</td>\n",
       "      <td>0.359039</td>\n",
       "      <td>-0.057832</td>\n",
       "      <td>0.000000</td>\n",
       "      <td>0.177238</td>\n",
       "      <td>0.812341</td>\n",
       "      <td>-0.065644</td>\n",
       "      <td>0.000000</td>\n",
       "      <td>0.000000</td>\n",
       "      <td>0.086881</td>\n",
       "      <td>0.271282</td>\n",
       "      <td>-0.052929</td>\n",
       "      <td>0.141697</td>\n",
       "      <td>0.000000</td>\n",
       "      <td>0.0</td>\n",
       "    </tr>\n",
       "    <tr>\n",
       "      <th>3</th>\n",
       "      <td>-0.058915</td>\n",
       "      <td>0.000000</td>\n",
       "      <td>-0.379096</td>\n",
       "      <td>-0.056288</td>\n",
       "      <td>-0.227693</td>\n",
       "      <td>0.000000</td>\n",
       "      <td>-0.581512</td>\n",
       "      <td>0.000000</td>\n",
       "      <td>-0.258450</td>\n",
       "      <td>0.000000</td>\n",
       "      <td>0.000000</td>\n",
       "      <td>-0.410479</td>\n",
       "      <td>-0.427233</td>\n",
       "      <td>-0.165691</td>\n",
       "      <td>-0.119896</td>\n",
       "      <td>0.000000</td>\n",
       "      <td>0.0</td>\n",
       "    </tr>\n",
       "    <tr>\n",
       "      <th>4</th>\n",
       "      <td>0.106713</td>\n",
       "      <td>0.000000</td>\n",
       "      <td>0.203179</td>\n",
       "      <td>-0.017565</td>\n",
       "      <td>0.598288</td>\n",
       "      <td>0.000000</td>\n",
       "      <td>0.046776</td>\n",
       "      <td>-0.058470</td>\n",
       "      <td>0.129933</td>\n",
       "      <td>0.000000</td>\n",
       "      <td>0.000000</td>\n",
       "      <td>0.013758</td>\n",
       "      <td>-0.057277</td>\n",
       "      <td>0.076819</td>\n",
       "      <td>0.746467</td>\n",
       "      <td>0.000000</td>\n",
       "      <td>0.0</td>\n",
       "    </tr>\n",
       "  </tbody>\n",
       "</table>\n",
       "</div>"
      ],
      "text/plain": [
       "          0         1         2         3         4         5         6  \\\n",
       "0 -0.199497 -0.891454 -0.113191 -0.033476  0.000566  0.000000 -0.178290   \n",
       "1  0.172756 -0.147926 -0.050364 -0.011110 -0.028960  0.841655 -0.088755   \n",
       "2  0.238221  0.000000  0.106564  0.359039 -0.057832  0.000000  0.177238   \n",
       "3 -0.058915  0.000000 -0.379096 -0.056288 -0.227693  0.000000 -0.581512   \n",
       "4  0.106713  0.000000  0.203179 -0.017565  0.598288  0.000000  0.046776   \n",
       "\n",
       "          7         8         9        10        11        12        13  \\\n",
       "0 -0.111431 -0.049526  0.000000  0.000000 -0.131096 -0.181929 -0.202093   \n",
       "1 -0.036981 -0.032872  0.147926  0.147926 -0.060911  0.120756  0.309479   \n",
       "2  0.812341 -0.065644  0.000000  0.000000  0.086881  0.271282 -0.052929   \n",
       "3  0.000000 -0.258450  0.000000  0.000000 -0.410479 -0.427233 -0.165691   \n",
       "4 -0.058470  0.129933  0.000000  0.000000  0.013758 -0.057277  0.076819   \n",
       "\n",
       "         14        15   16  \n",
       "0 -0.117448  0.000000  0.0  \n",
       "1  0.171265  0.197234  0.0  \n",
       "2  0.141697  0.000000  0.0  \n",
       "3 -0.119896  0.000000  0.0  \n",
       "4  0.746467  0.000000  0.0  "
      ]
     },
     "execution_count": 123,
     "metadata": {},
     "output_type": "execute_result"
    }
   ],
   "source": [
    "# data aslinya\n",
    "df_norm.head()"
   ]
  },
  {
   "cell_type": "markdown",
   "metadata": {},
   "source": [
    "<hr>\n",
    "\n",
    "# **Take Class/Home Exercise**\n",
    "\n",
    "#### ``Latihan PCA & Classification Model``\n",
    "#### 1. Dataset yang dipakai adalah **Cancer Dataset** ('Cancer.csv'). \n",
    "#### 2. Jalankan PCA pada dataset tersebut dengan pilihan reduksi variabel: 6, 10, 12, 15! Tampilkan total informasi dari tiap pilihan!\n",
    "#### 3. Buat Model ML Classification setiap pilihan reduksi variabel menggunakan:\n",
    "\n",
    "- Decision Tree Classifier\n",
    "- Random Forest Classifier\n",
    "- KNN Classifier\n",
    "\n",
    "#### 4. Bandingkan setiap percobaan pilihan reduksi dengan menampilkan  ``presisi, recall, f1_score, roc_auc_score``\n",
    "#### ``Latihan Clustering``\n",
    "#### 5. Buat _clustering_ pada dataset __Mall Customers__ menggunakan DCSCAN dengan _feature_: ``Age`` dan ``Annual Income``"
   ]
  },
  {
   "cell_type": "markdown",
   "metadata": {},
   "source": [
    "<hr>\n",
    "\n",
    "# **Reference**:\n",
    "- Rishav Kumar, \"Understanding Principal Component Analysis\", https://medium.com/@aptrishu/understanding-principle-component-analysis-e32be0253ef0\n",
    "- Chathurangi Shyalika, \"Understanding Principal Components Analysis(PCA)\", https://medium.com/datadriveninvestor/principal-components-analysis-pca-71cc9d43d9fb\n",
    "- Matt Brems, \"A One-Stop Shop for Principal Component Analysis\", https://towardsdatascience.com/a-one-stop-shop-for-principal-component-analysis-5582fb7e0a9c\n",
    "- Sydney Firmin, \"Tidying up with PCA: An Introduction to Principal Components Analysis\", https://towardsdatascience.com/tidying-up-with-pca-an-introduction-to-principal-components-analysis-f876599af383\n",
    "- George Seif, \"The 5 Clustering Algorithms Data Scientists Need to Know\", https://towardsdatascience.com/the-5-clustering-algorithms-data-scientists-need-to-know-a36d136ef68\n",
    "- Jason Brownlee, \"10 Clustering Algorithms With Python\", https://machinelearningmastery.com/clustering-algorithms-with-python/\n",
    "- Victor Roman, \"Unsupervised Machine Learning: Clustering Analysis\", https://towardsdatascience.com/unsupervised-machine-learning-clustering-analysis-d40f2b34ae7e\n",
    "- Sayak Paul, \"DBSCAN: A Macroscopic Investigation in Python\", https://www.datacamp.com/community/tutorials/dbscan-macroscopic-investigation-python\n",
    "- Debomit Dey, \"DBSCAN Clustering in ML | Density based clustering\", https://www.geeksforgeeks.org/dbscan-clustering-in-ml-density-based-clustering/\n",
    "- Dataset Source: https://www.kaggle.com/arjunbhasin2013/ccdata"
   ]
  }
 ],
 "metadata": {
  "kernelspec": {
   "display_name": "Python 3.8.1 32-bit",
   "language": "python",
   "name": "python38132bitf9f79e71b62e4503b25567c1d3914456"
  },
  "language_info": {
   "codemirror_mode": {
    "name": "ipython",
    "version": 3
   },
   "file_extension": ".py",
   "mimetype": "text/x-python",
   "name": "python",
   "nbconvert_exporter": "python",
   "pygments_lexer": "ipython3",
   "version": "3.8.1"
  }
 },
 "nbformat": 4,
 "nbformat_minor": 4
}
